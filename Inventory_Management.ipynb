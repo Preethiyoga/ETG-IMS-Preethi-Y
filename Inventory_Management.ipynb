{
  "nbformat": 4,
  "nbformat_minor": 0,
  "metadata": {
    "colab": {
      "name": "Copy of Inventory Management.ipynb",
      "provenance": [],
      "authorship_tag": "ABX9TyPkv8mnXXdUQogyZd5pGO8m",
      "include_colab_link": true
    },
    "kernelspec": {
      "name": "python3",
      "display_name": "Python 3"
    },
    "language_info": {
      "name": "python"
    }
  },
  "cells": [
    {
      "cell_type": "markdown",
      "metadata": {
        "id": "view-in-github",
        "colab_type": "text"
      },
      "source": [
        "<a href=\"https://colab.research.google.com/github/Preethiyoga/ETG-IMS-Preethi-Y/blob/master/Inventory_Management.ipynb\" target=\"_parent\"><img src=\"https://colab.research.google.com/assets/colab-badge.svg\" alt=\"Open In Colab\"/></a>"
      ]
    },
    {
      "cell_type": "code",
      "metadata": {
        "id": "AucR3qI4zdwk"
      },
      "source": [
        "itemdct={\n",
        "      1000:{\"name\":\"Diell Pasta\",\"Price\":50,\"Rating\":3.9,\"cus_ct\":10,\"Discount percentage\":5,\"Items Available\":6,\"Material Composition\":\"62% water, 31% carbohydrates, 6% protein,1% fat. \"},\n",
        "     1001:{\"name\":\"Wari Noodle\",\"Price\":68,\"Rating\":4.9,\"cus_ct\":10,\"Discount percentage\":2,\"Items Available\":14,\"Material Composition\":\"62% water, 31% carbohydrates, 6% protein,1% fat. \"},\n",
        "     1002:{\"name\":\" Toor dhal\",\"Price\":111,\"Rating\":3.1,\"cus_ct\":10,\"Discount percentage\":10,\"Items Available\":50,\"Material Composition\":\"9% protein, 70% water, 20% carbohydrates,1% fat.\"},\n",
        "     1003:{\"name\":\"White Sesame seeds \",\"Price\":146,\"Rating\":4.5,\"cus_ct\":10,\"Discount percentage\":4,\"Items Available\":29,\"Material Composition\":\" 54% oil, 20% protein, 13.4%carbohydrate, 3.2% crude fiber,3.7% ash\"},\n",
        "     1004:{\"name\":\"Corn Flakes\",\"Price\":160,\"Rating\":5,\"cus_ct\":10,\"Discount percentage\":0,\"Items Available\":30,\"Material Composition\":\"Corn (90%), sugar, salt, barley malt extract, vitamins (vitamin E, niacin, vitamin B6, riboflavin, folate), minerals (iron, zinc oxide)\"},\n",
        "      1005:{\"name\":\"Basmathi Rice\",\"Price\":299,\"Rating\":3.5,\"cus_ct\":10,\"Discount percentage\":5,\"Items Available\":6,\"Material Composition\":\"12% water, 75%–80% starch, 7% protein \"},\n",
        "     1006:{\"name\":\"Health Drink\",\"Price\":297,\"Rating\":4.9,\"cus_ct\":10,\"Discount percentage\":13,\"Items Available\":14,\"Material Composition\":\"Glucose, Sucrose, Acidity Regulator, Mineral, Common Edible Salt, Vitamin C.\"},\n",
        "     1007:{\"name\":\"Organic Raw Peanuts\",\"Price\":169,\"Rating\":4.31,\"cus_ct\":10,\"Discount percentage\":4,\"Items Available\":100,\"Material Composition\":\"47.27% fat, 25.48% protein, 5.25% moisture, 17.43% carbohydrate, and 1.84% ash\"},\n",
        "     1008:{\"name\":\"Choco Flakes\",\"Price\":500,\"Rating\":4,\"cus_ct\":10,\"Discount percentage\":44,\"Items Available\":29,\"Material Composition\":\"Milled corn, sugar, malt flavor, contains 2% or less of salt\"},\n",
        "     1009:{\"name\":\"Oats\",\"Price\":190,\"Rating\":4.7,\"cus_ct\":10,\"Discount percentage\":0,\"Items Available\":30,\"Material Compostion\":\" 66% carbohydrates, including 11% dietary fiber and 4% beta-glucans, 7% fat, and 17% protein\"},\n",
        "    \n",
        "    1010:{\"name\":\"No sugar Muesli\",\"Price\":600,\"Rating\":3.9,\"cus_ct\":10,\"Discount percentage\":43,\"Items Available\":6,\"Material Composition\":\" Multigrain 76% {Wheat (20.7%), Corn Grits (19.6%), Rice (12.6%), Rolled Barley (11.6%), Rolled Oats (11.6%)}, Dry Fruit & Nut (20%) {Raisins (12%), Almonds (8%)\"},\n",
        "     1011:{\"name\":\"Flaxseeds\",\"Price\":40,\"Rating\":4.9,\"cus_ct\":10,\"Discount percentage\":3,\"Items Available\":14,\"Material Composition\":\"35-45% oil, 20% monounsaturated fatty acids,70% alpha-linolenic fatty acids\"},\n",
        "     1012:{\"name\":\"Roasted and Salted Pistachios\",\"Price\":395,\"Rating\":3.1,\"cus_ct\":10,\"Discount percentage\":10,\"Items Available\":50,\"Material Composition\":\"Saturated Fatty Acid 20%,Fat 8%,Carbohydrates 3%,Fiber 12%\"},\n",
        "     1013:{\"name\":\"Garam Masala\",\"Price\":58,\"Rating\":4.5,\"cus_ct\":10,\"Discount percentage\":31,\"Items Available\":29,\"Material Composition\":\"Fat 23.72,Total Carbohydrates 30.16,Crude Fiber 17.91\"},\n",
        "     1014:{\"name\":\"Green Moong\",\"Price\":77,\"Rating\":5,\"cus_ct\":10,\"Discount percentage\":1,\"Items Available\":30,\"Material Composition\":\"Protein: 14.2 grams. Carbs: 38.7 grams. Fiber: 15.4 grams. Folate (B9): 80% \"},\n",
        "      1015:{\"name\":\"Soya chunks\",\"Price\":50,\"Rating\":3.5,\"cus_ct\":10,\"Discount percentage\":3,\"Items Available\":6,\"Material Composition\":\" 52 grams of protein, 0.5 grams total fat, 33 grams carbohydrates and 13 grams dietary fibre.\"},\n",
        "     1016:{\"name\":\"Gingelly Oil\",\"Price\":288,\"Rating\":4.9,\"cus_ct\":10,\"Discount percentage\":0,\"Items Available\":14,\"Material Composition\":\"Fat 153%,Saturated fat 70%\"},\n",
        "     1017:{\"name\":\"Hand Wash refill\",\"Price\":209,\"Rating\":4.31,\"cus_ct\":10,\"Discount percentage\":11,\"Items Available\":100,\"Material Composition\":\" anionic surfactant, cocamide deasurfactant, cocobetaine as amphoteric surfactant, \"},\n",
        "     1018:{\"name\":\"Hot Chacolate Drink\",\"Price\":175,\"Rating\":4,\"cus_ct\":10,\"Discount percentage\":20,\"Items Available\":29,\"Material Composition\":\"Sugar, Cocoa Powder 30%\"},\n",
        "     1019:{\"name\":\"Eggless Mayonise\",\"Price\":180,\"Rating\":4.7,\"cus_ct\":10,\"Discount percentage\":17,\"Items Available\":30,\"Material Compostion\":\"egetable oil, egg yolk, sodium chloride, water and vinegar.\"},\n",
        "    \n",
        "       1020:{\"name\":\"Peanut butter Crunchy\",\"Price\":169,\"Rating\":3.9,\"cus_ct\":10,\"Discount percentage\":0,\"Items Available\":6,\"Material Composition\":\"Calories: 188. Total fat: 16 grams. Saturated fat: 3 grams. Carbs: 7 grams\"},\n",
        "     1021:{\"name\":\"Choco Almond spread\",\"Price\":490,\"Rating\":4.9,\"cus_ct\":10,\"Discount percentage\":33,\"Items Available\":14,\"Material Composition\":\"Calories, carbs, fat, protein, fiber, cholesterol, and more for Chocolate with Almond Spread\"},\n",
        "     1022:{\"name\":\"Garlic Mayonnaise\",\"Price\":69,\"Rating\":3.1,\"cus_ct\":10,\"Discount percentage\":0,\"Items Available\":50,\"Material Composition\":\"2.5 g olive oil 22calories,3.5 g garlic 5.2calories\"},\n",
        "     1023:{\"name\":\"Garam Masala\",\"Price\":58,\"Rating\":4.5,\"cus_ct\":10,\"Discount percentage\":31,\"Items Available\":29,\"Material Composition\":\"Fat 23.72,Total Carbohydrates 30.16,Crude Fiber 17.91\"},\n",
        "     1024:{\"name\":\"Eggless Mayonaise\",\"Price\":139,\"Rating\":5,\"cus_ct\":10,\"Discount percentage\":2,\"Items Available\":30,\"Material Composition\":\"Cholesterol 0 mg, Carbohydrates 10.6g, Protein 3.3g\"},\n",
        "      1025:{\"name\":\"Facial Tissue Carton Box\",\"Price\":351,\"Rating\":3.5,\"cus_ct\":10,\"Discount percentage\":15,\"Items Available\":6,\"Material Composition\":\" pure chemical pulp\"},\n",
        "     1026:{\"name\":\"Wrapping paper\",\"Price\":220,\"Rating\":4.9,\"cus_ct\":10,\"Discount percentage\":23,\"Items Available\":14,\"Material Composition\":\" wood pulp\"},\n",
        "     1027:{\"name\":\"Air Freshener\",\"Price\":179,\"Rating\":4.31,\"cus_ct\":10,\"Discount percentage\":18,\"Items Available\":100,\"Material Composition\":\"geraniol, citronellol and terpineol, citral and citronellal, and camphor\"},\n",
        "     1028:{\"name\":\"Wheat Macroni Pasta\",\"Price\":198,\"Rating\":4,\"cus_ct\":10,\"Discount percentage\":50,\"Items Available\":46,\"Material Composition\":\"Protein (g) 8.1,Total lipid (fat)  1.3,Carbohydrate 43.2,Energy (kcal) 221.2,Sugars, total (g) 0.78\"},\n",
        "     1029:{\"name\":\"Eggless Mayonise\",\"Price\":180,\"Rating\":4.7,\"cus_ct\":10,\"Discount percentage\":17,\"Items Available\":30,\"Material Compostion\":\"vegetable oil, egg yolk, sodium chloride, water and vinegar\"},\n",
        "    1030:{\"name\":\"Apple cider Vinegar\",\"Price\":495,\"Rating\":4.7,\"cus_ct\":10,\"Discount percentage\":35,\"Items Available\":30,\"Material Compostion\":\"vitamins B1, B2, and B6; biotin; folic acid; niacin; pantothenic acid; and vitamin C\"}\n",
        "}"
      ],
      "execution_count": 142,
      "outputs": []
    },
    {
      "cell_type": "code",
      "metadata": {
        "id": "KGkeULBRux_y"
      },
      "source": [
        "items_sold={\"sales\":5,1:{\"Products\": [\"1000\", \"1002\"], 'Product Names':[\"Diell Pasta\",\" Toor dhal\"],\"Time\": \"Sun Aug  5 16:09:46 2021\", \"Price\": 123},\n",
        "            2:{\"Products\": [\"1015\", \"1020\"],'Product Names':[\"Soya chunks\",\"Peanut butter Crunchy\"], \"Time\": \"Wed Sep  14 16:09:46 2021\", \"Price\": 111.3},\n",
        "            3:{\"Products\": [\"1011\", \"1029\",\"1019\"],'Product Names':[\"Flaxseeds\",\"Eggless Mayonise\",\"Eggless Mayonise\"], \"Time\": \"Mon Sep  20 16:09:46 2021\", \"Price\": 120.3}\n",
        "            ,4:{\"Products\": [\"1000\", \"1005\",\"1010\"],'Product Names':[\"Diell Pasta\",\"Basmathi Rice\",\"No sugar Muesli\"], \"Time\": \"Thur Sep 27 16:09:46 2021\", \"Price\": 136.3}\n",
        "            ,5:{\"Products\": [\"1020\", \"1013\",\"1014\"],'Product Names':[\"Peanut butter Crunchy\",\"Garam Masala\",\"Green Moong\"], \"Time\": \"Sun Sep  5 16:09:46 2021\", \"Price\": 136.3}}"
      ],
      "execution_count": 144,
      "outputs": []
    },
    {
      "cell_type": "code",
      "metadata": {
        "id": "TnMiTI290_jT"
      },
      "source": [
        "import json\n",
        "import time\n",
        "js=json.dumps(itemdct)"
      ],
      "execution_count": 145,
      "outputs": []
    },
    {
      "cell_type": "code",
      "metadata": {
        "colab": {
          "base_uri": "https://localhost:8080/"
        },
        "id": "xFv4TZErfVa9",
        "outputId": "6fd44010-03f0-4349-9bdf-d051888dcd35"
      },
      "source": [
        "fd=open('report.txt','w')\n",
        "fd.write(js)\n"
      ],
      "execution_count": 146,
      "outputs": [
        {
          "output_type": "execute_result",
          "data": {
            "text/plain": [
              "6926"
            ]
          },
          "metadata": {},
          "execution_count": 146
        }
      ]
    },
    {
      "cell_type": "code",
      "metadata": {
        "id": "HFswFA3IgIr7"
      },
      "source": [
        "fd.close()"
      ],
      "execution_count": 147,
      "outputs": []
    },
    {
      "cell_type": "code",
      "metadata": {
        "id": "lzmRwcTlqfB7"
      },
      "source": [
        "js2=json.dumps(items_sold)"
      ],
      "execution_count": 148,
      "outputs": []
    },
    {
      "cell_type": "code",
      "metadata": {
        "id": "WmVEyYoohzsb"
      },
      "source": [
        "fd=open('sales.txt','w')\n",
        "fd.write(js2)\n",
        "fd.close()"
      ],
      "execution_count": 149,
      "outputs": []
    },
    {
      "cell_type": "code",
      "metadata": {
        "id": "zgfCkxbTfrwB"
      },
      "source": [
        "fd=open('report.txt','r')\n",
        "rec=fd.read()\n",
        "fd.close()\n",
        "record=json.loads(rec)"
      ],
      "execution_count": 150,
      "outputs": []
    },
    {
      "cell_type": "code",
      "metadata": {
        "id": "4Xykrfn4TehB"
      },
      "source": [
        "fd=open('sales.txt','r')\n",
        "sale=fd.read()\n",
        "fd.close()\n",
        "sales_trans=json.loads(sale)"
      ],
      "execution_count": 151,
      "outputs": []
    },
    {
      "cell_type": "code",
      "metadata": {
        "id": "nlIDsoHZT_Lt"
      },
      "source": [
        "trans_id=sales_trans[\"sales\"]+1"
      ],
      "execution_count": 152,
      "outputs": []
    },
    {
      "cell_type": "code",
      "metadata": {
        "colab": {
          "base_uri": "https://localhost:8080/"
        },
        "id": "gVpFE2zti2VJ",
        "outputId": "5f023bc6-5d07-4d3b-8795-25168fa7c7f9"
      },
      "source": [
        "case=input(\"Enter '1'-Add items '2'-to purchase items '3'-to display Composition '4'-to display Ratings '5' to rate a product:\")\n",
        "if(case=='1'):\n",
        "  prod_id = str(input(\"Enter product id:\"))\n",
        "  name = str(input(\"Enter name:\"))\n",
        "  pr = int(input(\"Enter price:\"))\n",
        "  qn = int(input(\"Enter quantity:\"))\n",
        "\n",
        "  record[prod_id] = {'name': name, 'Price': pr, 'Items Available': qn}\n",
        "  \n",
        "  js = json.dumps(record)\n",
        "   \n",
        "  fd = open(\"report.txt\",'w')\n",
        "  fd.write(js)\n",
        "  fd.close()\n",
        "  print (\"Item with product id \",prod_id,\" was added to the list\")\n",
        "  \n",
        "elif(case=='2') :\n",
        "\n",
        "  fd = open(\"report.txt\",'r')\n",
        "  r = fd.read()\n",
        "  fd.close()\n",
        "  records = json.loads(r)\n",
        "  n=int(input(\"Enter number of Products to be purchased:\"));\n",
        "  amt=0;\n",
        "  ui_prods=[]\n",
        "  ui_prod_names=[]\n",
        "  while(n>0):\n",
        "    ui_prod  = str(input(\"Enter the product_Id: \"))\n",
        "    if(ui_prod in records.keys()):\n",
        "      ui_quant = int(input(\"Enter the quantity: \"))\n",
        "      ui_prods.append(ui_prod)\n",
        "      ui_prod_names.append(records[ui_prod]['name'])\n",
        "      if(records[ui_prod]['Items Available']-ui_quant>0):\n",
        "        print(\"Product: \", records[ui_prod]['name'])\n",
        "        print(\"Price: \", records[ui_prod]['Price'])\n",
        "        print(\"Billing Amount: \", records[ui_prod]['Price'] * ui_quant)\n",
        "  \n",
        "        records[ui_prod]['Items Available'] = records[ui_prod]['Items Available'] - ui_quant\n",
        "        js = json.dumps(records)\n",
        "    \n",
        "        fd = open(\"report.txt\",'w')\n",
        "        fd.write(js)\n",
        "        fd.close()\n",
        "         \n",
        "        amt+= records[ui_prod]['Price'] *round((1- ui_quant*records[ui_prod][\"Discount percentage\"]/100),2)\n",
        "        n-=1\n",
        "      else:\n",
        "        print(\"Item Not Available\")\n",
        "        print(\"Buy another \",n,\"item/items\")\n",
        "  print(\"***************************************\\n\")\n",
        "  print(time.ctime(),\"\\n\")  \n",
        "  print(\"********************TOTAL AMOUNT\",amt)\n",
        "  print(\"\\n***************************************\")\n",
        "  \n",
        "  sales_trans[trans_id] ={'Products':ui_prods,'Product Names':ui_prod_names,'Time':time.ctime(),'Price':amt}\n",
        "  sales_trans[\"sales\"]=sales_trans[\"sales\"]+1\n",
        "  js2 = json.dumps(sales_trans)\n",
        "  fd = open(\"sales.txt\",'w')\n",
        "  fd.write(js2)\n",
        "  fd.close()\n",
        "  trans_id+=1\n",
        "     \n",
        "  \n",
        "elif(case=='3'):\n",
        "  fd = open(\"report.txt\",'r')\n",
        "  r = fd.read()\n",
        "  fd.close()\n",
        "  records = json.loads(r)\n",
        "  pro_id=input(\"Enter the id of the product to display Rating:\")\n",
        "  print(records[pro_id][\"Rating\"])\n",
        "  js = json.dumps(records)\n",
        "elif(case=='4'):\n",
        "  fd = open(\"report.txt\",'r')\n",
        "  r = fd.read()\n",
        "  fd.close()\n",
        "  records = json.loads(r)\n",
        "  pro_id=input(\"Enter the id of the product to display Compostion\")\n",
        "  print(records[pro_id][\"Material Composition\"])\n",
        "  js = json.dumps(records)\n",
        "elif(case=='5'):\n",
        "  fd = open(\"report.txt\",'r')\n",
        "  r = fd.read()\n",
        "  fd.close()\n",
        "  records = json.loads(r)\n",
        "  pro_id=input(\"enter the product_id to rate:\")\n",
        "  rate=input(\"Rate the product(1,2,3,4,5):\")\n",
        "  records[pro_id][\"cus_ct\"]=records[pro_id][\"cus_ct\"]+1\n",
        "  records[pro_id][\"Rating\"]=((records[pro_id][\"Rating\"]*int((records[pro_id][\"cus_ct\"]-1))+int(rate)))/int(records[pro_id][\"cus_ct\"])\n",
        "  records[pro_id][\"Rating\"]=round(records[pro_id][\"Rating\"],2)\n",
        "  js=json.dumps(records)\n",
        "  fd = open(\"report.txt\",'w')\n",
        "  fd.write(js)\n",
        "  fd.close()"
      ],
      "execution_count": 155,
      "outputs": [
        {
          "output_type": "stream",
          "name": "stdout",
          "text": [
            "Enter '1'-Add items '2'-to purchase items '3'-to display Composition '4'-to display Ratings '5' to rate a product:2\n",
            "Enter number of Products to be purchased:2\n",
            "Enter the product_Id: 1000\n",
            "Enter the quantity: 1\n",
            "Product:  Diell Pasta\n",
            "Price:  50\n",
            "Billing Amount:  50\n",
            "Enter the product_Id: 1002\n",
            "Enter the quantity: 2\n",
            "Product:   Toor dhal\n",
            "Price:  111\n",
            "Billing Amount:  222\n",
            "***************************************\n",
            "\n",
            "Sun Sep  5 16:45:44 2021 \n",
            "\n",
            "********************TOTAL AMOUNT 136.3\n",
            "\n",
            "***************************************\n"
          ]
        }
      ]
    }
  ]
}