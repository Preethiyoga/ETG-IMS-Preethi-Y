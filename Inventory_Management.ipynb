{
  "nbformat": 4,
  "nbformat_minor": 0,
  "metadata": {
    "colab": {
      "name": "Inventory Management.ipynb",
      "provenance": [],
      "authorship_tag": "ABX9TyOj8isGJ1TMDoyGGUUYiFBC",
      "include_colab_link": true
    },
    "kernelspec": {
      "name": "python3",
      "display_name": "Python 3"
    },
    "language_info": {
      "name": "python"
    }
  },
  "cells": [
    {
      "cell_type": "markdown",
      "metadata": {
        "id": "view-in-github",
        "colab_type": "text"
      },
      "source": [
        "<a href=\"https://colab.research.google.com/github/Preethiyoga/ETG-IMS-Preethi-Y/blob/master/Inventory_Management.ipynb\" target=\"_parent\"><img src=\"https://colab.research.google.com/assets/colab-badge.svg\" alt=\"Open In Colab\"/></a>"
      ]
    },
    {
      "cell_type": "code",
      "metadata": {
        "id": "AucR3qI4zdwk"
      },
      "source": [
        "itemdct={\n",
        "      1000:{\"name\":\"Diell Pasta\",\"Price\":50,\"Rating\":3.9,\"cus_ct\":10,\"Discount percentage\":5,\"Items Available\":6,\"Material Composition\":\"62% water, 31% carbohydrates, 6% protein,1% fat. \"},\n",
        "     1001:{\"name\":\"Wari Noodle\",\"Price\":68,\"Rating\":4.9,\"cus_ct\":10,\"Discount percentage\":2,\"Items Available\":14,\"Material Composition\":\"62% water, 31% carbohydrates, 6% protein,1% fat. \"},\n",
        "     1002:{\"name\":\" Toor dhal\",\"Price\":111,\"Rating\":3.1,\"cus_ct\":10,\"Discount percentage\":10,\"Items Available\":50,\"Material Composition\":\"9% protein, 70% water, 20% carbohydrates,1% fat.\"},\n",
        "     1003:{\"name\":\"White Sesame seeds \",\"Price\":146,\"Rating\":4.5,\"cus_ct\":10,\"Discount percentage\":4,\"Items Available\":29,\"Material Composition\":\" 54% oil, 20% protein, 13.4%carbohydrate, 3.2% crude fiber,3.7% ash\"},\n",
        "     1004:{\"name\":\"Corn Flakes\",\"Price\":160,\"Rating\":5,\"cus_ct\":10,\"Discount percentage\":0,\"Items Available\":30,\"Material Composition\":\"Corn (90%), sugar, salt, barley malt extract, vitamins (vitamin E, niacin, vitamin B6, riboflavin, folate), minerals (iron, zinc oxide)\"},\n",
        "      1005:{\"name\":\"Basmathi Rice\",\"Price\":299,\"Rating\":3.5,\"cus_ct\":10,\"Discount percentage\":5,\"Items Available\":6,\"Material Composition\":\"12% water, 75%–80% starch, 7% protein \"},\n",
        "     1006:{\"name\":\"Health Drink\",\"Price\":297,\"Rating\":4.9,\"cus_ct\":10,\"Discount percentage\":13,\"Items Available\":14,\"Material Composition\":\"Glucose, Sucrose, Acidity Regulator, Mineral, Common Edible Salt, Vitamin C.\"},\n",
        "     1007:{\"name\":\"Organic Raw Peanuts\",\"Price\":169,\"Rating\":4.31,\"cus_ct\":10,\"Discount percentage\":4,\"Items Available\":100,\"Material Composition\":\"47.27% fat, 25.48% protein, 5.25% moisture, 17.43% carbohydrate, and 1.84% ash\"},\n",
        "     1008:{\"name\":\"Choco Flakes\",\"Price\":500,\"Rating\":4,\"cus_ct\":10,\"Discount percentage\":44,\"Items Available\":29,\"Material Composition\":\"Milled corn, sugar, malt flavor, contains 2% or less of salt\"},\n",
        "     1009:{\"name\":\"Oats\",\"Price\":190,\"Rating\":4.7,\"cus_ct\":10,\"Discount percentage\":0,\"Items Available\":30,\"Material Compostion\":\" 66% carbohydrates, including 11% dietary fiber and 4% beta-glucans, 7% fat, and 17% protein\"},\n",
        "    \n",
        "    1010:{\"name\":\"No sugar Muesli\",\"Price\":600,\"Rating\":3.9,\"cus_ct\":10,\"Discount percentage\":43,\"Items Available\":6,\"Material Composition\":\" Multigrain 76% {Wheat (20.7%), Corn Grits (19.6%), Rice (12.6%), Rolled Barley (11.6%), Rolled Oats (11.6%)}, Dry Fruit & Nut (20%) {Raisins (12%), Almonds (8%)\"},\n",
        "     1011:{\"name\":\"Flaxseeds\",\"Price\":40,\"Rating\":4.9,\"cus_ct\":10,\"Discount percentage\":3,\"Items Available\":14,\"Material Composition\":\"35-45% oil, 20% monounsaturated fatty acids,70% alpha-linolenic fatty acids\"},\n",
        "     1012:{\"name\":\"Roasted and Salted Pistachios\",\"Price\":395,\"Rating\":3.1,\"cus_ct\":10,\"Discount percentage\":10,\"Items Available\":50,\"Material Composition\":\"Saturated Fatty Acid 20%,Fat 8%,Carbohydrates 3%,Fiber 12%\"},\n",
        "     1013:{\"name\":\"Garam Masala\",\"Price\":58,\"Rating\":4.5,\"cus_ct\":10,\"Discount percentage\":31,\"Items Available\":29,\"Material Composition\":\"Fat 23.72,Total Carbohydrates 30.16,Crude Fiber 17.91\"},\n",
        "     1014:{\"name\":\"Green Moong\",\"Price\":77,\"Rating\":5,\"cus_ct\":10,\"Discount percentage\":1,\"Items Available\":30,\"Material Composition\":\"Protein: 14.2 grams. Carbs: 38.7 grams. Fiber: 15.4 grams. Folate (B9): 80% \"},\n",
        "      1015:{\"name\":\"Soya chunks\",\"Price\":50,\"Rating\":3.5,\"cus_ct\":10,\"Discount percentage\":3,\"Items Available\":6,\"Material Composition\":\" 52 grams of protein, 0.5 grams total fat, 33 grams carbohydrates and 13 grams dietary fibre.\"},\n",
        "     1016:{\"name\":\"Gingelly Oil\",\"Price\":288,\"Rating\":4.9,\"cus_ct\":10,\"Discount percentage\":0,\"Items Available\":14,\"Material Composition\":\"Fat 153%,Saturated fat 70%\"},\n",
        "     1017:{\"name\":\"Hand Wash refill\",\"Price\":209,\"Rating\":4.31,\"cus_ct\":10,\"Discount percentage\":11,\"Items Available\":100,\"Material Composition\":\" anionic surfactant, cocamide deasurfactant, cocobetaine as amphoteric surfactant, \"},\n",
        "     1018:{\"name\":\"Hot Chacolate Drink\",\"Price\":175,\"Rating\":4,\"cus_ct\":10,\"Discount percentage\":20,\"Items Available\":29,\"Material Composition\":\"Sugar, Cocoa Powder 30%\"},\n",
        "     1019:{\"name\":\"Eggless Mayonise\",\"Price\":180,\"Rating\":4.7,\"cus_ct\":10,\"Discount percentage\":17,\"Items Available\":30,\"Material Compostion\":\"egetable oil, egg yolk, sodium chloride, water and vinegar.\"},\n",
        "    \n",
        "       1020:{\"name\":\"Peanut butter Crunchy\",\"Price\":169,\"Rating\":3.9,\"cus_ct\":10,\"Discount percentage\":0,\"Items Available\":6,\"Material Composition\":\"Calories: 188. Total fat: 16 grams. Saturated fat: 3 grams. Carbs: 7 grams\"},\n",
        "     1021:{\"name\":\"Choco Almond spread\",\"Price\":490,\"Rating\":4.9,\"cus_ct\":10,\"Discount percentage\":33,\"Items Available\":14,\"Material Composition\":\"Calories, carbs, fat, protein, fiber, cholesterol, and more for Chocolate with Almond Spread\"},\n",
        "     1022:{\"name\":\"Garlic Mayonnaise\",\"Price\":69,\"Rating\":3.1,\"cus_ct\":10,\"Discount percentage\":0,\"Items Available\":50,\"Material Composition\":\"2.5 g olive oil 22calories,3.5 g garlic 5.2calories\"},\n",
        "     1023:{\"name\":\"Garam Masala\",\"Price\":58,\"Rating\":4.5,\"cus_ct\":10,\"Discount percentage\":31,\"Items Available\":29,\"Material Composition\":\"Fat 23.72,Total Carbohydrates 30.16,Crude Fiber 17.91\"},\n",
        "     1024:{\"name\":\"Eggless Mayonaise\",\"Price\":139,\"Rating\":5,\"cus_ct\":10,\"Discount percentage\":2,\"Items Available\":30,\"Material Composition\":\"Cholesterol 0 mg, Carbohydrates 10.6g, Protein 3.3g\"},\n",
        "      1025:{\"name\":\"Facial Tissue Carton Box\",\"Price\":351,\"Rating\":3.5,\"cus_ct\":10,\"Discount percentage\":15,\"Items Available\":6,\"Material Composition\":\" pure chemical pulp\"},\n",
        "     1026:{\"name\":\"Wrapping paper\",\"Price\":220,\"Rating\":4.9,\"cus_ct\":10,\"Discount percentage\":23,\"Items Available\":14,\"Material Composition\":\" wood pulp\"},\n",
        "     1027:{\"name\":\"Air Freshener\",\"Price\":179,\"Rating\":4.31,\"cus_ct\":10,\"Discount percentage\":18,\"Items Available\":100,\"Material Composition\":\"geraniol, citronellol and terpineol, citral and citronellal, and camphor\"},\n",
        "     1028:{\"name\":\"Wheat Macroni Pasta\",\"Price\":198,\"Rating\":4,\"cus_ct\":10,\"Discount percentage\":50,\"Items Available\":46,\"Material Composition\":\"Protein (g) 8.1,Total lipid (fat)  1.3,Carbohydrate 43.2,Energy (kcal) 221.2,Sugars, total (g) 0.78\"},\n",
        "     1029:{\"name\":\"Eggless Mayonise\",\"Price\":180,\"Rating\":4.7,\"cus_ct\":10,\"Discount percentage\":17,\"Items Available\":30,\"Material Compostion\":\"vegetable oil, egg yolk, sodium chloride, water and vinegar\"},\n",
        "    1030:{\"name\":\"Apple cider Vinegar\",\"Price\":495,\"Rating\":4.7,\"cus_ct\":10,\"Discount percentage\":35,\"Items Available\":30,\"Material Compostion\":\"vitamins B1, B2, and B6; biotin; folic acid; niacin; pantothenic acid; and vitamin C\"}\n",
        "}"
      ],
      "execution_count": 3,
      "outputs": []
    },
    {
      "cell_type": "code",
      "metadata": {
        "id": "0OIBGoA5fdz0"
      },
      "source": [
        "import json\n",
        "import time\n",
        "js=json.dumps(itemdct)"
      ],
      "execution_count": 14,
      "outputs": []
    },
    {
      "cell_type": "code",
      "metadata": {
        "colab": {
          "base_uri": "https://localhost:8080/"
        },
        "id": "xFv4TZErfVa9",
        "outputId": "3066b012-f502-4717-d971-0d6ac4765c52"
      },
      "source": [
        "fd=open('report.txt','w')\n",
        "fd.write(js)\n"
      ],
      "execution_count": 15,
      "outputs": [
        {
          "output_type": "execute_result",
          "data": {
            "text/plain": [
              "6926"
            ]
          },
          "metadata": {},
          "execution_count": 15
        }
      ]
    },
    {
      "cell_type": "code",
      "metadata": {
        "id": "HFswFA3IgIr7"
      },
      "source": [
        "fd.close()"
      ],
      "execution_count": 16,
      "outputs": []
    },
    {
      "cell_type": "code",
      "metadata": {
        "id": "zgfCkxbTfrwB"
      },
      "source": [
        "fd=open('report.txt','r')\n",
        "rec=fd.read()\n",
        "fd.close\n",
        "record=json.loads(rec)"
      ],
      "execution_count": 17,
      "outputs": []
    },
    {
      "cell_type": "code",
      "metadata": {
        "id": "4Xykrfn4TehB"
      },
      "source": [
        "fd=open('sales.txt','r')\n",
        "sale=fd.read()\n",
        "fd.close\n",
        "sales_trans=json.loads(sale)"
      ],
      "execution_count": null,
      "outputs": []
    },
    {
      "cell_type": "code",
      "metadata": {
        "id": "nlIDsoHZT_Lt"
      },
      "source": [
        "trans_id=1"
      ],
      "execution_count": null,
      "outputs": []
    },
    {
      "cell_type": "code",
      "metadata": {
        "colab": {
          "base_uri": "https://localhost:8080/",
          "height": 540
        },
        "id": "gVpFE2zti2VJ",
        "outputId": "3c027e20-e6e8-4407-8643-136e9bd54f84"
      },
      "source": [
        "case=input(\"Enter '1'-Add items '2'-to purchase items '3'-to display Composition '4'-to display Ratings:\")\n",
        "if(case=='1'):\n",
        "  prod_id = str(input(\"Enter product id:\"))\n",
        "  name = str(input(\"Enter name:\"))\n",
        "  pr = int(input(\"Enter price:\"))\n",
        "  qn = int(input(\"Enter quantity:\"))\n",
        "\n",
        "  record[prod_id] = {'name': name, 'Price': pr, 'Items Available': qn}\n",
        "  \n",
        "  js = json.dumps(record)\n",
        "   \n",
        "  fd = open(\"report.txt\",'w')\n",
        "  fd.write(js)\n",
        "  fd.close()\n",
        "  print (\"Item with product id \",prod_id,\" was added to the list\")\n",
        "  \n",
        "elif(case=='2') :\n",
        "\n",
        "  fd = open(\"report.txt\",'r')\n",
        "  r = fd.read()\n",
        "  fd.close()\n",
        "  records = json.loads(r)\n",
        "  n=int(input(\"Enter number of Products to be purchased:\"));\n",
        "  amt=0;\n",
        "  while(n>0):\n",
        "   \n",
        "    ui_prod  = str(input(\"Enter the product_Id: \"))\n",
        "    if(ui_prod in records.keys):\n",
        "      ui_quant = int(input(\"Enter the quantity: \"))\n",
        "      if(records[ui_prod]['Items Available']-ui_quant>0):\n",
        "        print(\"Product: \", records[ui_prod]['name'])\n",
        "        print(\"Price: \", records[ui_prod]['Price'])\n",
        "        print(\"Billing Amount: \", records[ui_prod]['Price'] * ui_quant)\n",
        "  \n",
        "        records[ui_prod]['Items Available'] = records[ui_prod]['Items Available'] - ui_quant\n",
        "        js = json.dumps(records)\n",
        "    \n",
        "        fd = open(\"report.txt\",'w')\n",
        "        fd.write(js)\n",
        "        fd.close()\n",
        "    \n",
        "        amt+= records[ui_prod]['Price'] *(1- ui_quant*records[ui_prod][\"Discount percentage\"]/100)\n",
        "        n-=1\n",
        "        print(\"***************************************\\n\")\n",
        "        print(time.ctime(),\"\\n\")\n",
        "        print(\"********************TOTAL AMOUNT\",amt)\n",
        "        print(\"\\n***************************************\")\n",
        "        js2=json.dumps(sales_trans)\n",
        "        fd = open(\"sales.txt\",'w')\n",
        "        fd.write(js2)\n",
        "        fd.close()\n",
        "    else:\n",
        "      print(\"Item Not Available\")\n",
        "  \n",
        "elif(case=='3'):\n",
        "  fd = open(\"report.txt\",'r')\n",
        "  r = fd.read()\n",
        "  fd.close()\n",
        "  records = json.loads(r)\n",
        "  pro_id=input(\"Enter the id of the product to display Rating:\")\n",
        "  print(records[pro_id][\"Rating\"])\n",
        "  js = json.dumps(records)\n",
        "elif(case=='4'):\n",
        "  fd = open(\"report.txt\",'r')\n",
        "  r = fd.read()\n",
        "  fd.close()\n",
        "  records = json.loads(r)\n",
        "  pro_id=input(\"Enter the id of the product to display Compostion\")\n",
        "  print(records[pro_id][\"Material Composition\"])\n",
        "  js = json.dumps(records)"
      ],
      "execution_count": 13,
      "outputs": [
        {
          "output_type": "error",
          "ename": "KeyboardInterrupt",
          "evalue": "ignored",
          "traceback": [
            "\u001b[0;31m---------------------------------------------------------------------------\u001b[0m",
            "\u001b[0;31mKeyboardInterrupt\u001b[0m                         Traceback (most recent call last)",
            "\u001b[0;32m/usr/local/lib/python3.7/dist-packages/ipykernel/kernelbase.py\u001b[0m in \u001b[0;36m_input_request\u001b[0;34m(self, prompt, ident, parent, password)\u001b[0m\n\u001b[1;32m    728\u001b[0m             \u001b[0;32mtry\u001b[0m\u001b[0;34m:\u001b[0m\u001b[0;34m\u001b[0m\u001b[0;34m\u001b[0m\u001b[0m\n\u001b[0;32m--> 729\u001b[0;31m                 \u001b[0mident\u001b[0m\u001b[0;34m,\u001b[0m \u001b[0mreply\u001b[0m \u001b[0;34m=\u001b[0m \u001b[0mself\u001b[0m\u001b[0;34m.\u001b[0m\u001b[0msession\u001b[0m\u001b[0;34m.\u001b[0m\u001b[0mrecv\u001b[0m\u001b[0;34m(\u001b[0m\u001b[0mself\u001b[0m\u001b[0;34m.\u001b[0m\u001b[0mstdin_socket\u001b[0m\u001b[0;34m,\u001b[0m \u001b[0;36m0\u001b[0m\u001b[0;34m)\u001b[0m\u001b[0;34m\u001b[0m\u001b[0;34m\u001b[0m\u001b[0m\n\u001b[0m\u001b[1;32m    730\u001b[0m             \u001b[0;32mexcept\u001b[0m \u001b[0mException\u001b[0m\u001b[0;34m:\u001b[0m\u001b[0;34m\u001b[0m\u001b[0;34m\u001b[0m\u001b[0m\n",
            "\u001b[0;32m/usr/local/lib/python3.7/dist-packages/jupyter_client/session.py\u001b[0m in \u001b[0;36mrecv\u001b[0;34m(self, socket, mode, content, copy)\u001b[0m\n\u001b[1;32m    802\u001b[0m         \u001b[0;32mtry\u001b[0m\u001b[0;34m:\u001b[0m\u001b[0;34m\u001b[0m\u001b[0;34m\u001b[0m\u001b[0m\n\u001b[0;32m--> 803\u001b[0;31m             \u001b[0mmsg_list\u001b[0m \u001b[0;34m=\u001b[0m \u001b[0msocket\u001b[0m\u001b[0;34m.\u001b[0m\u001b[0mrecv_multipart\u001b[0m\u001b[0;34m(\u001b[0m\u001b[0mmode\u001b[0m\u001b[0;34m,\u001b[0m \u001b[0mcopy\u001b[0m\u001b[0;34m=\u001b[0m\u001b[0mcopy\u001b[0m\u001b[0;34m)\u001b[0m\u001b[0;34m\u001b[0m\u001b[0;34m\u001b[0m\u001b[0m\n\u001b[0m\u001b[1;32m    804\u001b[0m         \u001b[0;32mexcept\u001b[0m \u001b[0mzmq\u001b[0m\u001b[0;34m.\u001b[0m\u001b[0mZMQError\u001b[0m \u001b[0;32mas\u001b[0m \u001b[0me\u001b[0m\u001b[0;34m:\u001b[0m\u001b[0;34m\u001b[0m\u001b[0;34m\u001b[0m\u001b[0m\n",
            "\u001b[0;32m/usr/local/lib/python3.7/dist-packages/zmq/sugar/socket.py\u001b[0m in \u001b[0;36mrecv_multipart\u001b[0;34m(self, flags, copy, track)\u001b[0m\n\u001b[1;32m    618\u001b[0m         \"\"\"\n\u001b[0;32m--> 619\u001b[0;31m         \u001b[0mparts\u001b[0m \u001b[0;34m=\u001b[0m \u001b[0;34m[\u001b[0m\u001b[0mself\u001b[0m\u001b[0;34m.\u001b[0m\u001b[0mrecv\u001b[0m\u001b[0;34m(\u001b[0m\u001b[0mflags\u001b[0m\u001b[0;34m,\u001b[0m \u001b[0mcopy\u001b[0m\u001b[0;34m=\u001b[0m\u001b[0mcopy\u001b[0m\u001b[0;34m,\u001b[0m \u001b[0mtrack\u001b[0m\u001b[0;34m=\u001b[0m\u001b[0mtrack\u001b[0m\u001b[0;34m)\u001b[0m\u001b[0;34m]\u001b[0m\u001b[0;34m\u001b[0m\u001b[0;34m\u001b[0m\u001b[0m\n\u001b[0m\u001b[1;32m    620\u001b[0m         \u001b[0;31m# have first part already, only loop while more to receive\u001b[0m\u001b[0;34m\u001b[0m\u001b[0;34m\u001b[0m\u001b[0;34m\u001b[0m\u001b[0m\n",
            "\u001b[0;32mzmq/backend/cython/socket.pyx\u001b[0m in \u001b[0;36mzmq.backend.cython.socket.Socket.recv\u001b[0;34m()\u001b[0m\n",
            "\u001b[0;32mzmq/backend/cython/socket.pyx\u001b[0m in \u001b[0;36mzmq.backend.cython.socket.Socket.recv\u001b[0;34m()\u001b[0m\n",
            "\u001b[0;32mzmq/backend/cython/socket.pyx\u001b[0m in \u001b[0;36mzmq.backend.cython.socket._recv_copy\u001b[0;34m()\u001b[0m\n",
            "\u001b[0;32m/usr/local/lib/python3.7/dist-packages/zmq/backend/cython/checkrc.pxd\u001b[0m in \u001b[0;36mzmq.backend.cython.checkrc._check_rc\u001b[0;34m()\u001b[0m\n",
            "\u001b[0;31mKeyboardInterrupt\u001b[0m: ",
            "\nDuring handling of the above exception, another exception occurred:\n",
            "\u001b[0;31mKeyboardInterrupt\u001b[0m                         Traceback (most recent call last)",
            "\u001b[0;32m<ipython-input-13-76e7e09937aa>\u001b[0m in \u001b[0;36m<module>\u001b[0;34m()\u001b[0m\n\u001b[0;32m----> 1\u001b[0;31m \u001b[0mcase\u001b[0m\u001b[0;34m=\u001b[0m\u001b[0minput\u001b[0m\u001b[0;34m(\u001b[0m\u001b[0;34m\"Enter '1'-Add items '2'-to purchase items '3'-to display Composition '4'-to display Ratings:\"\u001b[0m\u001b[0;34m)\u001b[0m\u001b[0;34m\u001b[0m\u001b[0;34m\u001b[0m\u001b[0m\n\u001b[0m\u001b[1;32m      2\u001b[0m \u001b[0;32mif\u001b[0m\u001b[0;34m(\u001b[0m\u001b[0mcase\u001b[0m\u001b[0;34m==\u001b[0m\u001b[0;34m'1'\u001b[0m\u001b[0;34m)\u001b[0m\u001b[0;34m:\u001b[0m\u001b[0;34m\u001b[0m\u001b[0;34m\u001b[0m\u001b[0m\n\u001b[1;32m      3\u001b[0m   \u001b[0mprod_id\u001b[0m \u001b[0;34m=\u001b[0m \u001b[0mstr\u001b[0m\u001b[0;34m(\u001b[0m\u001b[0minput\u001b[0m\u001b[0;34m(\u001b[0m\u001b[0;34m\"Enter product id:\"\u001b[0m\u001b[0;34m)\u001b[0m\u001b[0;34m)\u001b[0m\u001b[0;34m\u001b[0m\u001b[0;34m\u001b[0m\u001b[0m\n\u001b[1;32m      4\u001b[0m   \u001b[0mname\u001b[0m \u001b[0;34m=\u001b[0m \u001b[0mstr\u001b[0m\u001b[0;34m(\u001b[0m\u001b[0minput\u001b[0m\u001b[0;34m(\u001b[0m\u001b[0;34m\"Enter name:\"\u001b[0m\u001b[0;34m)\u001b[0m\u001b[0;34m)\u001b[0m\u001b[0;34m\u001b[0m\u001b[0;34m\u001b[0m\u001b[0m\n\u001b[1;32m      5\u001b[0m   \u001b[0mpr\u001b[0m \u001b[0;34m=\u001b[0m \u001b[0mint\u001b[0m\u001b[0;34m(\u001b[0m\u001b[0minput\u001b[0m\u001b[0;34m(\u001b[0m\u001b[0;34m\"Enter price:\"\u001b[0m\u001b[0;34m)\u001b[0m\u001b[0;34m)\u001b[0m\u001b[0;34m\u001b[0m\u001b[0;34m\u001b[0m\u001b[0m\n",
            "\u001b[0;32m/usr/local/lib/python3.7/dist-packages/ipykernel/kernelbase.py\u001b[0m in \u001b[0;36mraw_input\u001b[0;34m(self, prompt)\u001b[0m\n\u001b[1;32m    702\u001b[0m             \u001b[0mself\u001b[0m\u001b[0;34m.\u001b[0m\u001b[0m_parent_ident\u001b[0m\u001b[0;34m,\u001b[0m\u001b[0;34m\u001b[0m\u001b[0;34m\u001b[0m\u001b[0m\n\u001b[1;32m    703\u001b[0m             \u001b[0mself\u001b[0m\u001b[0;34m.\u001b[0m\u001b[0m_parent_header\u001b[0m\u001b[0;34m,\u001b[0m\u001b[0;34m\u001b[0m\u001b[0;34m\u001b[0m\u001b[0m\n\u001b[0;32m--> 704\u001b[0;31m             \u001b[0mpassword\u001b[0m\u001b[0;34m=\u001b[0m\u001b[0;32mFalse\u001b[0m\u001b[0;34m,\u001b[0m\u001b[0;34m\u001b[0m\u001b[0;34m\u001b[0m\u001b[0m\n\u001b[0m\u001b[1;32m    705\u001b[0m         )\n\u001b[1;32m    706\u001b[0m \u001b[0;34m\u001b[0m\u001b[0m\n",
            "\u001b[0;32m/usr/local/lib/python3.7/dist-packages/ipykernel/kernelbase.py\u001b[0m in \u001b[0;36m_input_request\u001b[0;34m(self, prompt, ident, parent, password)\u001b[0m\n\u001b[1;32m    732\u001b[0m             \u001b[0;32mexcept\u001b[0m \u001b[0mKeyboardInterrupt\u001b[0m\u001b[0;34m:\u001b[0m\u001b[0;34m\u001b[0m\u001b[0;34m\u001b[0m\u001b[0m\n\u001b[1;32m    733\u001b[0m                 \u001b[0;31m# re-raise KeyboardInterrupt, to truncate traceback\u001b[0m\u001b[0;34m\u001b[0m\u001b[0;34m\u001b[0m\u001b[0;34m\u001b[0m\u001b[0m\n\u001b[0;32m--> 734\u001b[0;31m                 \u001b[0;32mraise\u001b[0m \u001b[0mKeyboardInterrupt\u001b[0m\u001b[0;34m\u001b[0m\u001b[0;34m\u001b[0m\u001b[0m\n\u001b[0m\u001b[1;32m    735\u001b[0m             \u001b[0;32melse\u001b[0m\u001b[0;34m:\u001b[0m\u001b[0;34m\u001b[0m\u001b[0;34m\u001b[0m\u001b[0m\n\u001b[1;32m    736\u001b[0m                 \u001b[0;32mbreak\u001b[0m\u001b[0;34m\u001b[0m\u001b[0;34m\u001b[0m\u001b[0m\n",
            "\u001b[0;31mKeyboardInterrupt\u001b[0m: "
          ]
        }
      ]
    }
  ]
}