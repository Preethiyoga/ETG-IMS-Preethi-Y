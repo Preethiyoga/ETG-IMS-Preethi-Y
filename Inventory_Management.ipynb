{
  "nbformat": 4,
  "nbformat_minor": 0,
  "metadata": {
    "colab": {
      "name": "Inventory Management.ipynb",
      "provenance": [],
      "authorship_tag": "ABX9TyNwmmXFvp1Uk5m8Nh+Fc/7s",
      "include_colab_link": true
    },
    "kernelspec": {
      "name": "python3",
      "display_name": "Python 3"
    },
    "language_info": {
      "name": "python"
    }
  },
  "cells": [
    {
      "cell_type": "markdown",
      "metadata": {
        "id": "view-in-github",
        "colab_type": "text"
      },
      "source": [
        "<a href=\"https://colab.research.google.com/github/Preethiyoga/Preethi-Y-Inventory-management-/blob/master/Inventory_Management.ipynb\" target=\"_parent\"><img src=\"https://colab.research.google.com/assets/colab-badge.svg\" alt=\"Open In Colab\"/></a>"
      ]
    },
    {
      "cell_type": "code",
      "metadata": {
        "id": "0OIBGoA5fdz0"
      },
      "source": [
        "import json\n",
        "js=json.dumps(itemdct)"
      ],
      "execution_count": 2,
      "outputs": []
    },
    {
      "cell_type": "code",
      "metadata": {
        "colab": {
          "base_uri": "https://localhost:8080/"
        },
        "id": "xFv4TZErfVa9",
        "outputId": "513586ab-77c0-4294-9ac2-c330d0e81710"
      },
      "source": [
        "fd=open('report.txt','w')\n",
        "fd.write(js)\n"
      ],
      "execution_count": 15,
      "outputs": [
        {
          "output_type": "execute_result",
          "data": {
            "text/plain": [
              "6926"
            ]
          },
          "metadata": {},
          "execution_count": 15
        }
      ]
    },
    {
      "cell_type": "code",
      "metadata": {
        "id": "HFswFA3IgIr7"
      },
      "source": [
        "fd.close()"
      ],
      "execution_count": 7,
      "outputs": []
    },
    {
      "cell_type": "code",
      "metadata": {
        "id": "zgfCkxbTfrwB"
      },
      "source": [
        "fd=open('report.txt','r')\n",
        "rec=fd.read()\n",
        "fd.close\n",
        "record=json.loads(rec)"
      ],
      "execution_count": 16,
      "outputs": []
    },
    {
      "cell_type": "code",
      "metadata": {
        "colab": {
          "base_uri": "https://localhost:8080/"
        },
        "id": "gVpFE2zti2VJ",
        "outputId": "71e33513-7374-491a-b558-9d64cc4680a1"
      },
      "source": [
        "case=input(\"Enter '1'-Add items '2'-to purchase items '3'-to display Composition '4'-to display Ratings:\")\n",
        "if(case=='1'):\n",
        "  prod_id = str(input(\"Enter product id:\"))\n",
        "  name = str(input(\"Enter name:\"))\n",
        "  pr = int(input(\"Enter price:\"))\n",
        "  qn = int(input(\"Enter quantity:\"))\n",
        "\n",
        "  record[prod_id] = {'name': name, 'Price': pr, 'Items Available': qn}\n",
        "  \n",
        "  js = json.dumps(record)\n",
        "   \n",
        "  fd = open(\"report.txt\",'w')\n",
        "  fd.write(js)\n",
        "  fd.close()\n",
        "  print (\"Item with product id \",prod_id,\" was added to the list\")\n",
        "  \n",
        "elif(case=='2') :\n",
        "\n",
        "  fd = open(\"report.txt\",'r')\n",
        "  r = fd.read()\n",
        "  fd.close()\n",
        "  records = json.loads(r)\n",
        "  n=int(input(\"Enter number of Products to be purchased:\"));\n",
        "  while(n>0):\n",
        "    ui_prod  = str(input(\"Enter the product_Id: \"))\n",
        "    ui_quant = int(input(\"Enter the quantity: \"))\n",
        "\n",
        " \n",
        "    print(\"Product: \", records[ui_prod]['name'])\n",
        "    print(\"Price: \", records[ui_prod]['Price'])\n",
        "    print(\"Billing Amount: \", records[ui_prod]['Price'] * ui_quant)\n",
        "\n",
        "    records[ui_prod]['Items Available'] = records[ui_prod]['Items Available'] - ui_quant\n",
        "    js = json.dumps(records)\n",
        "\n",
        "    fd = open(\"report.txt\",'w')\n",
        "    fd.write(js)\n",
        "    fd.close()\n",
        "    {'prod' : ui_prod, 'Items Available' : ui_quant, 'Price': records[ui_prod]['Price'] *(1- ui_quant*records[ui_prod][\"Discount percentage\"]/100)}\n",
        "    n-=1\n",
        "elif(case=='3'):\n",
        "  fd = open(\"report.txt\",'r')\n",
        "  r = fd.read()\n",
        "  fd.close()\n",
        "  records = json.loads(r)\n",
        "  pro_id=input(\"Enter the id of the product to display Rating:\")\n",
        "  print(records[pro_id][\"Rating\"])\n",
        "  js = json.dumps(records)\n",
        "elif(case=='4'):\n",
        "  fd = open(\"report.txt\",'r')\n",
        "  r = fd.read()\n",
        "  fd.close()\n",
        "  records = json.loads(r)\n",
        "  pro_id=input(\"Enter the id of the product to display Compostion\")\n",
        "  print(records[pro_id][\"Material Composition\"])\n",
        "  js = json.dumps(records)"
      ],
      "execution_count": 57,
      "outputs": [
        {
          "output_type": "stream",
          "name": "stdout",
          "text": [
            "Enter '1'-Add items '2'-to purchase items '3'-to display Composition '4'-to display Ratings:2\n",
            "Enter number of Products to be purchased:3\n",
            "Enter the product_Id: 1000\n",
            "Enter the quantity: 2\n",
            "Product:  Diell Pasta\n",
            "Price:  50\n",
            "Billing Amount:  100\n",
            "Enter the product_Id: 1001\n",
            "Enter the quantity: 2\n",
            "Product:  Wari Noodle\n",
            "Price:  68\n",
            "Billing Amount:  136\n",
            "Enter the product_Id: 1003\n",
            "Enter the quantity: 2\n",
            "Product:  White Sesame seeds \n",
            "Price:  146\n",
            "Billing Amount:  292\n"
          ]
        }
      ]
    }
  ]
}